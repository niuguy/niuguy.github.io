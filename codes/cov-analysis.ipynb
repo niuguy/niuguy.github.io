{
 "cells": [
  {
   "cell_type": "code",
   "execution_count": 1,
   "metadata": {},
   "outputs": [],
   "source": [
    "import numpy as np\n",
    "import pandas as pd\n",
    "import matplotlib.pyplot as plt\n",
    "import seaborn as sns"
   ]
  },
  {
   "cell_type": "markdown",
   "metadata": {},
   "source": [
    "## Functions"
   ]
  },
  {
   "cell_type": "code",
   "execution_count": 2,
   "metadata": {},
   "outputs": [],
   "source": [
    "def cov_matrix(universe, weights, start, end):\n",
    "    prices = get_pricing(universe, fields='price', start_date=start, end_date=end)\n",
    "    normal_prices =  (prices-prices.min())/(prices.max()-prices.min())\n",
    "    matrix = normal_prices.corr()\n",
    "    total = np.dot(np.dot(weights, matrix.values), weights.T)\n",
    "    return matrix, total"
   ]
  },
  {
   "cell_type": "code",
   "execution_count": 3,
   "metadata": {},
   "outputs": [],
   "source": [
    "def plot_heatmap(cov):\n",
    "    sns.heatmap(cov, \n",
    "        xticklabels=cov.columns,\n",
    "        yticklabels=cov.columns)"
   ]
  },
  {
   "cell_type": "markdown",
   "metadata": {},
   "source": [
    "## Date Range"
   ]
  },
  {
   "cell_type": "code",
   "execution_count": 4,
   "metadata": {},
   "outputs": [],
   "source": [
    "start = '2019-09-01'\n",
    "end = '2020-09-01'"
   ]
  },
  {
   "cell_type": "markdown",
   "metadata": {},
   "source": [
    "## Before adding TSLA"
   ]
  },
  {
   "cell_type": "code",
   "execution_count": 5,
   "metadata": {},
   "outputs": [],
   "source": [
    "universe = ['FB', 'GOOG', 'AMZN', 'AAPL']\n",
    "weights = np.array([0.25, 0.25, 0.25, 0.25])"
   ]
  },
  {
   "cell_type": "code",
   "execution_count": 6,
   "metadata": {},
   "outputs": [
    {
     "name": "stdout",
     "output_type": "stream",
     "text": [
      "covariance matrix\n"
     ]
    },
    {
     "data": {
      "text/html": [
       "<div>\n",
       "<table border=\"1\" class=\"dataframe\">\n",
       "  <thead>\n",
       "    <tr style=\"text-align: right;\">\n",
       "      <th></th>\n",
       "      <th>Equity(42950 [FB])</th>\n",
       "      <th>Equity(46631 [GOOG])</th>\n",
       "      <th>Equity(16841 [AMZN])</th>\n",
       "      <th>Equity(24 [AAPL])</th>\n",
       "    </tr>\n",
       "  </thead>\n",
       "  <tbody>\n",
       "    <tr>\n",
       "      <th>Equity(42950 [FB])</th>\n",
       "      <td>1.000000</td>\n",
       "      <td>0.923439</td>\n",
       "      <td>0.823530</td>\n",
       "      <td>0.914719</td>\n",
       "    </tr>\n",
       "    <tr>\n",
       "      <th>Equity(46631 [GOOG])</th>\n",
       "      <td>0.923439</td>\n",
       "      <td>1.000000</td>\n",
       "      <td>0.727740</td>\n",
       "      <td>0.864815</td>\n",
       "    </tr>\n",
       "    <tr>\n",
       "      <th>Equity(16841 [AMZN])</th>\n",
       "      <td>0.823530</td>\n",
       "      <td>0.727740</td>\n",
       "      <td>1.000000</td>\n",
       "      <td>0.910622</td>\n",
       "    </tr>\n",
       "    <tr>\n",
       "      <th>Equity(24 [AAPL])</th>\n",
       "      <td>0.914719</td>\n",
       "      <td>0.864815</td>\n",
       "      <td>0.910622</td>\n",
       "      <td>1.000000</td>\n",
       "    </tr>\n",
       "  </tbody>\n",
       "</table>\n",
       "</div>"
      ],
      "text/plain": [
       "                      Equity(42950 [FB])  Equity(46631 [GOOG])  \\\n",
       "Equity(42950 [FB])              1.000000              0.923439   \n",
       "Equity(46631 [GOOG])            0.923439              1.000000   \n",
       "Equity(16841 [AMZN])            0.823530              0.727740   \n",
       "Equity(24 [AAPL])               0.914719              0.864815   \n",
       "\n",
       "                      Equity(16841 [AMZN])  Equity(24 [AAPL])  \n",
       "Equity(42950 [FB])                0.823530           0.914719  \n",
       "Equity(46631 [GOOG])              0.727740           0.864815  \n",
       "Equity(16841 [AMZN])              1.000000           0.910622  \n",
       "Equity(24 [AAPL])                 0.910622           1.000000  "
      ]
     },
     "execution_count": 6,
     "metadata": {},
     "output_type": "execute_result"
    }
   ],
   "source": [
    "matrix, total = cov_matrix(universe,weights, start, end)\n",
    "print(\"covariance matrix\")\n",
    "matrix"
   ]
  },
  {
   "cell_type": "code",
   "execution_count": 7,
   "metadata": {},
   "outputs": [
    {
     "name": "stdout",
     "output_type": "stream",
     "text": [
      "total covariance: 0.895608093887\n"
     ]
    }
   ],
   "source": [
    "print(\"total covariance:\", total)"
   ]
  },
  {
   "cell_type": "code",
   "execution_count": 8,
   "metadata": {},
   "outputs": [
    {
     "data": {
      "image/png": "[encoded data removed]",
      "text/plain": [
       "<matplotlib.figure.Figure at 0x7f860323d550>"
      ]
     },
     "metadata": {},
     "output_type": "display_data"
    }
   ],
   "source": [
    "plot_heatmap(matrix)"
   ]
  },
  {
   "cell_type": "markdown",
   "metadata": {},
   "source": [
    "## After adding TSLA"
   ]
  },
  {
   "cell_type": "code",
   "execution_count": 9,
   "metadata": {},
   "outputs": [],
   "source": [
    "universe_T = ['FB', 'GOOG', 'AMZN', 'AAPL', 'TSLA']\n",
    "weights_T = np.array([0.2, 0.2, 0.2, 0.2, 0.2])"
   ]
  },
  {
   "cell_type": "code",
   "execution_count": 10,
   "metadata": {},
   "outputs": [],
   "source": [
    "matrix_T, total_T = cov_matrix(universe_T, weights_T, start, end)"
   ]
  },
  {
   "cell_type": "code",
   "execution_count": 11,
   "metadata": {},
   "outputs": [
    {
     "name": "stdout",
     "output_type": "stream",
     "text": [
      "covariance matrix\n"
     ]
    },
    {
     "data": {
      "text/html": [
       "<div>\n",
       "<table border=\"1\" class=\"dataframe\">\n",
       "  <thead>\n",
       "    <tr style=\"text-align: right;\">\n",
       "      <th></th>\n",
       "      <th>Equity(42950 [FB])</th>\n",
       "      <th>Equity(46631 [GOOG])</th>\n",
       "      <th>Equity(16841 [AMZN])</th>\n",
       "      <th>Equity(24 [AAPL])</th>\n",
       "      <th>Equity(39840 [TSLA])</th>\n",
       "    </tr>\n",
       "  </thead>\n",
       "  <tbody>\n",
       "    <tr>\n",
       "      <th>Equity(42950 [FB])</th>\n",
       "      <td>1.000000</td>\n",
       "      <td>0.923439</td>\n",
       "      <td>0.823530</td>\n",
       "      <td>0.914719</td>\n",
       "      <td>0.832682</td>\n",
       "    </tr>\n",
       "    <tr>\n",
       "      <th>Equity(46631 [GOOG])</th>\n",
       "      <td>0.923439</td>\n",
       "      <td>1.000000</td>\n",
       "      <td>0.727740</td>\n",
       "      <td>0.864815</td>\n",
       "      <td>0.784058</td>\n",
       "    </tr>\n",
       "    <tr>\n",
       "      <th>Equity(16841 [AMZN])</th>\n",
       "      <td>0.823530</td>\n",
       "      <td>0.727740</td>\n",
       "      <td>1.000000</td>\n",
       "      <td>0.910622</td>\n",
       "      <td>0.957261</td>\n",
       "    </tr>\n",
       "    <tr>\n",
       "      <th>Equity(24 [AAPL])</th>\n",
       "      <td>0.914719</td>\n",
       "      <td>0.864815</td>\n",
       "      <td>0.910622</td>\n",
       "      <td>1.000000</td>\n",
       "      <td>0.954423</td>\n",
       "    </tr>\n",
       "    <tr>\n",
       "      <th>Equity(39840 [TSLA])</th>\n",
       "      <td>0.832682</td>\n",
       "      <td>0.784058</td>\n",
       "      <td>0.957261</td>\n",
       "      <td>0.954423</td>\n",
       "      <td>1.000000</td>\n",
       "    </tr>\n",
       "  </tbody>\n",
       "</table>\n",
       "</div>"
      ],
      "text/plain": [
       "                      Equity(42950 [FB])  Equity(46631 [GOOG])  \\\n",
       "Equity(42950 [FB])              1.000000              0.923439   \n",
       "Equity(46631 [GOOG])            0.923439              1.000000   \n",
       "Equity(16841 [AMZN])            0.823530              0.727740   \n",
       "Equity(24 [AAPL])               0.914719              0.864815   \n",
       "Equity(39840 [TSLA])            0.832682              0.784058   \n",
       "\n",
       "                      Equity(16841 [AMZN])  Equity(24 [AAPL])  \\\n",
       "Equity(42950 [FB])                0.823530           0.914719   \n",
       "Equity(46631 [GOOG])              0.727740           0.864815   \n",
       "Equity(16841 [AMZN])              1.000000           0.910622   \n",
       "Equity(24 [AAPL])                 0.910622           1.000000   \n",
       "Equity(39840 [TSLA])              0.957261           0.954423   \n",
       "\n",
       "                      Equity(39840 [TSLA])  \n",
       "Equity(42950 [FB])                0.832682  \n",
       "Equity(46631 [GOOG])              0.784058  \n",
       "Equity(16841 [AMZN])              0.957261  \n",
       "Equity(24 [AAPL])                 0.954423  \n",
       "Equity(39840 [TSLA])              1.000000  "
      ]
     },
     "execution_count": 11,
     "metadata": {},
     "output_type": "execute_result"
    }
   ],
   "source": [
    "print(\"covariance matrix\")\n",
    "matrix_T"
   ]
  },
  {
   "cell_type": "code",
   "execution_count": 12,
   "metadata": {},
   "outputs": [
    {
     "name": "stdout",
     "output_type": "stream",
     "text": [
      "total covariance: 0.895463150009\n"
     ]
    }
   ],
   "source": [
    "print(\"total covariance:\", total_T)"
   ]
  },
  {
   "cell_type": "code",
   "execution_count": 13,
   "metadata": {},
   "outputs": [
    {
     "data": {
      "image/png": "[encoded data removed]",
      "text/plain": [
       "<matplotlib.figure.Figure at 0x7f86031892e8>"
      ]
     },
     "metadata": {},
     "output_type": "display_data"
    }
   ],
   "source": [
    "plot_heatmap(matrix_T)"
   ]
  },
  {
   "cell_type": "markdown",
   "metadata": {},
   "source": [
    "## Add BRK.B instead"
   ]
  },
  {
   "cell_type": "code",
   "execution_count": 14,
   "metadata": {},
   "outputs": [],
   "source": [
    "universe_B = ['FB', 'GOOG', 'AMZN', 'AAPL', 'BRK.B']\n",
    "weights_B = np.array([0.2, 0.2, 0.2, 0.2, 0.2])"
   ]
  },
  {
   "cell_type": "code",
   "execution_count": 15,
   "metadata": {},
   "outputs": [],
   "source": [
    "matrix_B, total_B = cov_matrix(universe_B, weights_B, start, end)"
   ]
  },
  {
   "cell_type": "code",
   "execution_count": 16,
   "metadata": {},
   "outputs": [
    {
     "name": "stdout",
     "output_type": "stream",
     "text": [
      "covariance matrix\n"
     ]
    },
    {
     "data": {
      "text/html": [
       "<div>\n",
       "<table border=\"1\" class=\"dataframe\">\n",
       "  <thead>\n",
       "    <tr style=\"text-align: right;\">\n",
       "      <th></th>\n",
       "      <th>Equity(42950 [FB])</th>\n",
       "      <th>Equity(46631 [GOOG])</th>\n",
       "      <th>Equity(16841 [AMZN])</th>\n",
       "      <th>Equity(24 [AAPL])</th>\n",
       "      <th>Equity(11100 [BRK_B])</th>\n",
       "    </tr>\n",
       "  </thead>\n",
       "  <tbody>\n",
       "    <tr>\n",
       "      <th>Equity(42950 [FB])</th>\n",
       "      <td>1.000000</td>\n",
       "      <td>0.923439</td>\n",
       "      <td>0.823530</td>\n",
       "      <td>0.914719</td>\n",
       "      <td>0.075300</td>\n",
       "    </tr>\n",
       "    <tr>\n",
       "      <th>Equity(46631 [GOOG])</th>\n",
       "      <td>0.923439</td>\n",
       "      <td>1.000000</td>\n",
       "      <td>0.727740</td>\n",
       "      <td>0.864815</td>\n",
       "      <td>0.203879</td>\n",
       "    </tr>\n",
       "    <tr>\n",
       "      <th>Equity(16841 [AMZN])</th>\n",
       "      <td>0.823530</td>\n",
       "      <td>0.727740</td>\n",
       "      <td>1.000000</td>\n",
       "      <td>0.910622</td>\n",
       "      <td>-0.372784</td>\n",
       "    </tr>\n",
       "    <tr>\n",
       "      <th>Equity(24 [AAPL])</th>\n",
       "      <td>0.914719</td>\n",
       "      <td>0.864815</td>\n",
       "      <td>0.910622</td>\n",
       "      <td>1.000000</td>\n",
       "      <td>-0.058643</td>\n",
       "    </tr>\n",
       "    <tr>\n",
       "      <th>Equity(11100 [BRK_B])</th>\n",
       "      <td>0.075300</td>\n",
       "      <td>0.203879</td>\n",
       "      <td>-0.372784</td>\n",
       "      <td>-0.058643</td>\n",
       "      <td>1.000000</td>\n",
       "    </tr>\n",
       "  </tbody>\n",
       "</table>\n",
       "</div>"
      ],
      "text/plain": [
       "                       Equity(42950 [FB])  Equity(46631 [GOOG])  \\\n",
       "Equity(42950 [FB])               1.000000              0.923439   \n",
       "Equity(46631 [GOOG])             0.923439              1.000000   \n",
       "Equity(16841 [AMZN])             0.823530              0.727740   \n",
       "Equity(24 [AAPL])                0.914719              0.864815   \n",
       "Equity(11100 [BRK_B])            0.075300              0.203879   \n",
       "\n",
       "                       Equity(16841 [AMZN])  Equity(24 [AAPL])  \\\n",
       "Equity(42950 [FB])                 0.823530           0.914719   \n",
       "Equity(46631 [GOOG])               0.727740           0.864815   \n",
       "Equity(16841 [AMZN])               1.000000           0.910622   \n",
       "Equity(24 [AAPL])                  0.910622           1.000000   \n",
       "Equity(11100 [BRK_B])             -0.372784          -0.058643   \n",
       "\n",
       "                       Equity(11100 [BRK_B])  \n",
       "Equity(42950 [FB])                  0.075300  \n",
       "Equity(46631 [GOOG])                0.203879  \n",
       "Equity(16841 [AMZN])               -0.372784  \n",
       "Equity(24 [AAPL])                  -0.058643  \n",
       "Equity(11100 [BRK_B])               1.000000  "
      ]
     },
     "execution_count": 16,
     "metadata": {},
     "output_type": "execute_result"
    }
   ],
   "source": [
    "print(\"covariance matrix\")\n",
    "matrix_B"
   ]
  },
  {
   "cell_type": "code",
   "execution_count": 17,
   "metadata": {},
   "outputs": [
    {
     "name": "stdout",
     "output_type": "stream",
     "text": [
      "total covariance: 0.601009311705\n"
     ]
    }
   ],
   "source": [
    "print(\"total covariance:\", total_B)"
   ]
  },
  {
   "cell_type": "code",
   "execution_count": 18,
   "metadata": {},
   "outputs": [
    {
     "data": {
      "image/png": "[encoded data removed]",
      "text/plain": [
       "<matplotlib.figure.Figure at 0x7f85fe87f8d0>"
      ]
     },
     "metadata": {},
     "output_type": "display_data"
    }
   ],
   "source": [
    "plot_heatmap(matrix_B)"
   ]
  }
 ],
 "metadata": {
  "kernelspec": {
   "display_name": "Python 3.5",
   "language": "python",
   "name": "py35"
  },
  "language_info": {
   "codemirror_mode": {
    "name": "ipython",
    "version": 3
   },
   "file_extension": ".py",
   "mimetype": "text/x-python",
   "name": "python",
   "nbconvert_exporter": "python",
   "pygments_lexer": "ipython3",
   "version": "3.5.9"
  }
 },
 "nbformat": 4,
 "nbformat_minor": 1
}